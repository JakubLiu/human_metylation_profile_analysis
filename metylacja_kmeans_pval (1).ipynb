{
 "cells": [
  {
   "cell_type": "code",
   "execution_count": 1,
   "id": "24bd8383",
   "metadata": {},
   "outputs": [],
   "source": [
    "from sklearn.cluster import KMeans\n",
    "import numpy as np\n",
    "import pandas as pd\n",
    "import matplotlib.pyplot as plt\n",
    "from mpl_toolkits.mplot3d import Axes3D"
   ]
  },
  {
   "cell_type": "code",
   "execution_count": 2,
   "id": "6ee94e35",
   "metadata": {},
   "outputs": [
    {
     "name": "stdout",
     "output_type": "stream",
     "text": [
      "   WALD  negative_log10_pval   R2  metadata[0]  metadata[1]  metadata[2]  \\\n",
      "0   0.0             0.000759 -0.0            1       134999       729737   \n",
      "1   0.0             0.002498  0.0            1       135028       729737   \n",
      "2   0.0             0.001621  0.0            1       135031       729737   \n",
      "3   0.0             0.000456 -0.0            1       135086       729737   \n",
      "4   0.0             0.000408 -0.0            1       135095       729737   \n",
      "\n",
      "  metadata[3]  ChromPos  \n",
      "0   LOC729737  1_134999  \n",
      "1   LOC729737  1_135028  \n",
      "2   LOC729737  1_135031  \n",
      "3   LOC729737  1_135086  \n",
      "4   LOC729737  1_135095  \n"
     ]
    }
   ],
   "source": [
    "data = pd.read_csv(\"C:/Users/Lenovo/Desktop/STUDIA/BIOINFORMATYKA/METYLACJA/percent_MET_NegativeLog10Pval.csv\",sep = ',', decimal = '.')\n",
    "print(data.head())"
   ]
  },
  {
   "cell_type": "code",
   "execution_count": 3,
   "id": "94b490d0",
   "metadata": {},
   "outputs": [
    {
     "name": "stdout",
     "output_type": "stream",
     "text": [
      "   N clusters  Max pval  Min pval      Diff  Max name  N positions\n",
      "0           2  0.684241  0.050631  0.633611         1        16974\n",
      "0           3  1.053199  0.029395  1.023805         1        11389\n",
      "0           4  1.316933  0.019852  1.297081         3         7962\n",
      "0           5  1.513273  0.014403  1.498870         3         5757\n",
      "0           6  1.693333  0.011424  1.681910         5         3959\n",
      "0           7  1.831613  0.009135  1.822477         6         2919\n",
      "0           8  1.933535  0.008224  1.925310         5         2273\n",
      "0           9  2.044796  0.006766  2.038030         4         1701\n",
      "0          10  2.161100  0.006024  2.155076         8         1242\n",
      "0          11  2.252959  0.005131  2.247828         9          953\n",
      "0          12  2.337424  0.004755  2.332669         5          744\n",
      "0          13  2.404141  0.004417  2.399724        10          609\n",
      "0          14  2.402139  0.004209  2.397929         9          613\n",
      "0          15  2.451742  0.003770  2.447972        10          534\n",
      "0          16  2.533539  0.003551  2.529988        11          410\n",
      "0          17  2.654932  0.003423  2.651509        14          280\n",
      "0          18  2.572964  0.003100  2.569864        11          366\n",
      "0          19  2.668240  0.003203  2.665037         9          268\n",
      "0          20  2.773052  0.002905  2.770147        18          191\n",
      "done.\n"
     ]
    }
   ],
   "source": [
    "dfs = []\n",
    "\n",
    "for i in range(2,20+1):\n",
    "    kmeans = KMeans(n_clusters = i)\n",
    "    data['cluster'] = kmeans.fit_predict(data[['negative_log10_pval']])\n",
    "    unique_list = sorted(list(data['cluster'].unique()))\n",
    "    centroids = []\n",
    "    \n",
    "    for j in unique_list:\n",
    "        data_new = data.loc[data['cluster'] == j, ]\n",
    "        centroids.append([j ,data_new['negative_log10_pval'].mean()])\n",
    "        \n",
    "    centroids_name = []\n",
    "    centroids_pval = []\n",
    "    for k in range(0, len(centroids)):\n",
    "        centroids_name.append(centroids[k][0])\n",
    "        centroids_pval.append(centroids[k][1])\n",
    "        max_centroids_pval = max(centroids_pval)\n",
    "        min_centroids_pval = min(centroids_pval)\n",
    "        diff_centroids_pval = abs(max_centroids_pval - min_centroids_pval)\n",
    "    \n",
    "    for l in range(0, len(centroids)):\n",
    "        if centroids[l][1] == max_centroids_pval:\n",
    "            max_centroid_name = centroids[l][0]\n",
    "            \n",
    "    data_small = data.loc[data['cluster'] == max_centroid_name]\n",
    "    n_pos = len(list(data_small['metadata[3]'].unique()))\n",
    "    #exact_pos = list(data_small['metadata[3]'].unique())  # to get exact positions, uncomment this line\n",
    "            \n",
    "    out_dict = {'N clusters' : i, 'Max pval'  : [max_centroids_pval], 'Min pval': [min_centroids_pval], 'Diff' : [diff_centroids_pval], 'Max name' : [max_centroid_name], 'N positions' : n_pos}\n",
    "    df_out = pd.DataFrame(out_dict)\n",
    "    dfs.append(df_out)\n",
    "\n",
    "    \n",
    "final_df = pd.concat(dfs)\n",
    "print(final_df)\n",
    "final_df.to_csv(\"C:/Users/Lenovo/Desktop/STUDIA/BIOINFORMATYKA/METYLACJA/Cluster_output.csv\", index=False)\n",
    "print('done.')"
   ]
  },
  {
   "cell_type": "code",
   "execution_count": null,
   "id": "b20e1648",
   "metadata": {},
   "outputs": [],
   "source": []
  }
 ],
 "metadata": {
  "kernelspec": {
   "display_name": "Python 3 (ipykernel)",
   "language": "python",
   "name": "python3"
  },
  "language_info": {
   "codemirror_mode": {
    "name": "ipython",
    "version": 3
   },
   "file_extension": ".py",
   "mimetype": "text/x-python",
   "name": "python",
   "nbconvert_exporter": "python",
   "pygments_lexer": "ipython3",
   "version": "3.8.12"
  }
 },
 "nbformat": 4,
 "nbformat_minor": 5
}
